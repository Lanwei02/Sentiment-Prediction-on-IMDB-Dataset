{
 "cells": [
  {
   "cell_type": "code",
   "execution_count": 1,
   "metadata": {},
   "outputs": [
    {
     "name": "stderr",
     "output_type": "stream",
     "text": [
      "/Users/lana/anaconda3/lib/python3.6/site-packages/h5py/__init__.py:34: FutureWarning: Conversion of the second argument of issubdtype from `float` to `np.floating` is deprecated. In future, it will be treated as `np.float64 == np.dtype(float).type`.\n",
      "  from ._conv import register_converters as _register_converters\n",
      "Using TensorFlow backend.\n"
     ]
    }
   ],
   "source": [
    "import matplotlib.pyplot as plt\n",
    "import numpy as np\n",
    "import pandas as pd\n",
    "\n",
    "import time\n",
    "\n",
    "from keras.preprocessing import sequence\n",
    "\n",
    "from sklearn.model_selection import train_test_split\n",
    "%matplotlib inline"
   ]
  },
  {
   "cell_type": "markdown",
   "metadata": {},
   "source": [
    "## 1.Load Dataset"
   ]
  },
  {
   "cell_type": "code",
   "execution_count": 2,
   "metadata": {
    "collapsed": true
   },
   "outputs": [],
   "source": [
    "from keras.datasets import imdb"
   ]
  },
  {
   "cell_type": "code",
   "execution_count": 3,
   "metadata": {
    "collapsed": true
   },
   "outputs": [],
   "source": [
    "(x_train, y_train), (x_test, y_test) = imdb.load_data(num_words=20000)"
   ]
  },
  {
   "cell_type": "code",
   "execution_count": 4,
   "metadata": {},
   "outputs": [
    {
     "name": "stdout",
     "output_type": "stream",
     "text": [
      "(25000,) train sequences\n",
      "(25000,) test sequences\n"
     ]
    }
   ],
   "source": [
    "print(x_train.shape, 'train sequences')\n",
    "print(x_test.shape, 'test sequences')"
   ]
  },
  {
   "cell_type": "markdown",
   "metadata": {},
   "source": [
    "## 2. Neural Network"
   ]
  },
  {
   "cell_type": "markdown",
   "metadata": {},
   "source": [
    "#### Preprocessing "
   ]
  },
  {
   "cell_type": "code",
   "execution_count": 5,
   "metadata": {},
   "outputs": [
    {
     "name": "stdout",
     "output_type": "stream",
     "text": [
      "max:  2494\n",
      "min:  11\n",
      "average:  238.71364\n",
      "Standard Deviation: 176.4937\n"
     ]
    },
    {
     "data": {
      "image/png": "[encoded data removed]",
      "text/plain": [
       "<matplotlib.figure.Figure at 0x1a2ac275c0>"
      ]
     },
     "metadata": {},
     "output_type": "display_data"
    }
   ],
   "source": [
    "l=[len(i) for i in x_train]\n",
    "print('max: ',max(l))\n",
    "print('min: ',min(l))\n",
    "print('average: ',sum(l)/len(l))\n",
    "print('Standard Deviation: {:.4f}'.format(np.std(l)))\n",
    "plt.boxplot(l)\n",
    "plt.show()"
   ]
  },
  {
   "cell_type": "markdown",
   "metadata": {},
   "source": [
    "* Therefore, most of the reviews have within 500 words"
   ]
  },
  {
   "cell_type": "code",
   "execution_count": 6,
   "metadata": {
    "collapsed": true
   },
   "outputs": [],
   "source": [
    "x_train_pad = sequence.pad_sequences(x_train, maxlen=500)\n",
    "x_test_pad = sequence.pad_sequences(x_test, maxlen=500)"
   ]
  },
  {
   "cell_type": "code",
   "execution_count": 7,
   "metadata": {
    "collapsed": true
   },
   "outputs": [],
   "source": [
    "Xtrain, Xvalid, ytrain, yvalid = train_test_split(x_train_pad, y_train, random_state=10)"
   ]
  },
  {
   "cell_type": "markdown",
   "metadata": {},
   "source": [
    "## 2.1. LSTM"
   ]
  },
  {
   "cell_type": "code",
   "execution_count": 8,
   "metadata": {
    "collapsed": true
   },
   "outputs": [],
   "source": [
    "from keras.models import Sequential\n",
    "from keras.layers import Dense, Embedding, Dropout, LSTM\n",
    "from keras.callbacks import EarlyStopping, ModelCheckpoint"
   ]
  },
  {
   "cell_type": "code",
   "execution_count": 41,
   "metadata": {
    "collapsed": true
   },
   "outputs": [],
   "source": [
    "callback=[\n",
    "    EarlyStopping(monitor='val_loss', patience=2),\n",
    "    ModelCheckpoint(filepath='weights.{epoch:02d}-{val_acc:.2f}.hdf5',save_best_only=True)\n",
    "]"
   ]
  },
  {
   "cell_type": "code",
   "execution_count": 42,
   "metadata": {},
   "outputs": [
    {
     "name": "stdout",
     "output_type": "stream",
     "text": [
      "_________________________________________________________________\n",
      "Layer (type)                 Output Shape              Param #   \n",
      "=================================================================\n",
      "embedding_6 (Embedding)      (None, 500, 128)          2560000   \n",
      "_________________________________________________________________\n",
      "dropout_8 (Dropout)          (None, 500, 128)          0         \n",
      "_________________________________________________________________\n",
      "lstm_4 (LSTM)                (None, 100)               91600     \n",
      "_________________________________________________________________\n",
      "dropout_9 (Dropout)          (None, 100)               0         \n",
      "_________________________________________________________________\n",
      "dense_7 (Dense)              (None, 1)                 101       \n",
      "=================================================================\n",
      "Total params: 2,651,701\n",
      "Trainable params: 2,651,701\n",
      "Non-trainable params: 0\n",
      "_________________________________________________________________\n",
      "None\n"
     ]
    }
   ],
   "source": [
    "lstm = Sequential()\n",
    "lstm.add(Embedding(20000, 128, input_length=500))\n",
    "\n",
    "lstm.add(Dropout(0.2))\n",
    "lstm.add(LSTM(100))\n",
    "lstm.add(Dropout(0.2))\n",
    "\n",
    "lstm.add(Dense(1, activation='sigmoid'))\n",
    "lstm.compile(loss='binary_crossentropy', optimizer='adam', metrics=['accuracy'])\n",
    "\n",
    "print(lstm.summary())"
   ]
  },
  {
   "cell_type": "code",
   "execution_count": 43,
   "metadata": {
    "collapsed": true
   },
   "outputs": [],
   "source": [
    "callback=[\n",
    "    EarlyStopping(monitor='val_loss', patience=2),\n",
    "    ModelCheckpoint(filepath='weights.{epoch:02d}-{val_acc:.2f}.hdf5',save_best_only=True)\n",
    "]"
   ]
  },
  {
   "cell_type": "code",
   "execution_count": 44,
   "metadata": {
    "scrolled": true
   },
   "outputs": [
    {
     "name": "stderr",
     "output_type": "stream",
     "text": [
      "/Users/lana/anaconda3/lib/python3.6/site-packages/keras/models.py:942: UserWarning: The `nb_epoch` argument in `fit` has been renamed `epochs`.\n",
      "  warnings.warn('The `nb_epoch` argument in `fit` '\n"
     ]
    },
    {
     "name": "stdout",
     "output_type": "stream",
     "text": [
      "Train on 18750 samples, validate on 6250 samples\n",
      "Epoch 1/10\n",
      "18750/18750 [==============================] - 587s 31ms/step - loss: 0.4740 - acc: 0.7676 - val_loss: 0.3566 - val_acc: 0.8490\n",
      "Epoch 2/10\n",
      "18750/18750 [==============================] - 581s 31ms/step - loss: 0.2607 - acc: 0.9019 - val_loss: 0.3013 - val_acc: 0.8818\n",
      "Epoch 3/10\n",
      "18750/18750 [==============================] - 581s 31ms/step - loss: 0.1722 - acc: 0.9380 - val_loss: 0.3490 - val_acc: 0.8725\n",
      "Epoch 4/10\n",
      "18750/18750 [==============================] - 579s 31ms/step - loss: 0.1240 - acc: 0.9569 - val_loss: 0.3504 - val_acc: 0.8654\n",
      "2330.6172902584076\n"
     ]
    }
   ],
   "source": [
    "start_time_lstm=time.time()\n",
    "lstm_history = lstm.fit(Xtrain, ytrain, \n",
    "          nb_epoch=10, batch_size=64,\n",
    "          validation_data=(Xvalid, yvalid),\n",
    "       callbacks=callback)\n",
    "end_time_lstm=time.time()\n",
    "print(end_time_lstm-start_time_lstm)"
   ]
  },
  {
   "cell_type": "code",
   "execution_count": 45,
   "metadata": {
    "collapsed": true
   },
   "outputs": [],
   "source": [
    "pre_lstm_train=lstm.predict(x_train_pad)\n",
    "pre_lstm_test=lstm.predict(x_test_pad)\n",
    "lstm.save('lstm-model.h5')"
   ]
  },
  {
   "cell_type": "code",
   "execution_count": 79,
   "metadata": {},
   "outputs": [
    {
     "name": "stdout",
     "output_type": "stream",
     "text": [
      "25000/25000 [==============================] - 176s 7ms/step\n"
     ]
    }
   ],
   "source": [
    "lstm_scores = lstm.evaluate(x_test_pad, y_test)"
   ]
  },
  {
   "cell_type": "code",
   "execution_count": 80,
   "metadata": {},
   "outputs": [
    {
     "name": "stdout",
     "output_type": "stream",
     "text": [
      "loss     =  0.3978683662509918\n",
      "accuracy =  0.84932\n"
     ]
    }
   ],
   "source": [
    "print('loss     = ', lstm_scores[0])\n",
    "print('accuracy = ', lstm_scores[1])"
   ]
  },
  {
   "cell_type": "markdown",
   "metadata": {},
   "source": [
    "## 2.2. LSTM+CNN"
   ]
  },
  {
   "cell_type": "code",
   "execution_count": 46,
   "metadata": {
    "collapsed": true
   },
   "outputs": [],
   "source": [
    "from keras.layers.convolutional import Conv1D, MaxPooling1D"
   ]
  },
  {
   "cell_type": "code",
   "execution_count": 47,
   "metadata": {
    "scrolled": true
   },
   "outputs": [
    {
     "name": "stdout",
     "output_type": "stream",
     "text": [
      "_________________________________________________________________\n",
      "Layer (type)                 Output Shape              Param #   \n",
      "=================================================================\n",
      "embedding_7 (Embedding)      (None, 500, 128)          2560000   \n",
      "_________________________________________________________________\n",
      "dropout_10 (Dropout)         (None, 500, 128)          0         \n",
      "_________________________________________________________________\n",
      "conv1d_3 (Conv1D)            (None, 500, 32)           12320     \n",
      "_________________________________________________________________\n",
      "max_pooling1d_3 (MaxPooling1 (None, 250, 32)           0         \n",
      "_________________________________________________________________\n",
      "lstm_5 (LSTM)                (None, 100)               53200     \n",
      "_________________________________________________________________\n",
      "dropout_11 (Dropout)         (None, 100)               0         \n",
      "_________________________________________________________________\n",
      "dense_8 (Dense)              (None, 1)                 101       \n",
      "=================================================================\n",
      "Total params: 2,625,621\n",
      "Trainable params: 2,625,621\n",
      "Non-trainable params: 0\n",
      "_________________________________________________________________\n",
      "None\n"
     ]
    }
   ],
   "source": [
    "lstm_cnn = Sequential()\n",
    "lstm_cnn.add(Embedding(20000, 128, input_length=500))\n",
    "\n",
    "lstm_cnn.add(Dropout(0.2))\n",
    "lstm_cnn.add(Conv1D(filters=32, kernel_size=3, padding='same', activation='relu'))\n",
    "lstm_cnn.add(MaxPooling1D(pool_size=2))\n",
    "lstm_cnn.add(LSTM(100))\n",
    "lstm_cnn.add(Dropout(0.2))\n",
    "\n",
    "lstm_cnn.add(Dense(1, activation='sigmoid'))\n",
    "lstm_cnn.compile(loss='binary_crossentropy', optimizer='adam', metrics=['accuracy'])\n",
    "print(lstm_cnn.summary())"
   ]
  },
  {
   "cell_type": "code",
   "execution_count": 48,
   "metadata": {
    "collapsed": true
   },
   "outputs": [],
   "source": [
    "callback=[\n",
    "    EarlyStopping(monitor='val_loss', patience=2),\n",
    "    ModelCheckpoint(filepath='weights.{epoch:02d}-{val_acc:.2f}.hdf5',save_best_only=True)\n",
    "]"
   ]
  },
  {
   "cell_type": "code",
   "execution_count": 49,
   "metadata": {},
   "outputs": [
    {
     "name": "stderr",
     "output_type": "stream",
     "text": [
      "/Users/lana/anaconda3/lib/python3.6/site-packages/keras/models.py:942: UserWarning: The `nb_epoch` argument in `fit` has been renamed `epochs`.\n",
      "  warnings.warn('The `nb_epoch` argument in `fit` '\n"
     ]
    },
    {
     "name": "stdout",
     "output_type": "stream",
     "text": [
      "Train on 18750 samples, validate on 6250 samples\n",
      "Epoch 1/10\n",
      "18750/18750 [==============================] - 269s 14ms/step - loss: 0.4441 - acc: 0.7817 - val_loss: 0.2631 - val_acc: 0.8939\n",
      "Epoch 2/10\n",
      "18750/18750 [==============================] - 299s 16ms/step - loss: 0.2064 - acc: 0.9224 - val_loss: 0.2554 - val_acc: 0.8973\n",
      "Epoch 3/10\n",
      "18750/18750 [==============================] - 299s 16ms/step - loss: 0.1101 - acc: 0.9635 - val_loss: 0.3012 - val_acc: 0.8760\n",
      "Epoch 4/10\n",
      "18750/18750 [==============================] - 299s 16ms/step - loss: 0.0695 - acc: 0.9775 - val_loss: 0.4097 - val_acc: 0.8872\n",
      "1166.8876626491547\n"
     ]
    }
   ],
   "source": [
    "start_time_lstm_cnn=time.time()\n",
    "lstm_cnn_history = lstm_cnn.fit(Xtrain, ytrain, \n",
    "          nb_epoch=10, batch_size=64,\n",
    "          validation_data=(Xvalid, yvalid),\n",
    "       callbacks=callback)\n",
    "end_time_lstm_cnn=time.time()\n",
    "print(end_time_lstm_cnn-start_time_lstm_cnn)"
   ]
  },
  {
   "cell_type": "code",
   "execution_count": 50,
   "metadata": {
    "collapsed": true
   },
   "outputs": [],
   "source": [
    "pre_lstm_cnn_train=lstm_cnn.predict(x_train_pad)\n",
    "pre_lstm_cnn_test=lstm_cnn.predict(x_test_pad)\n",
    "lstm_cnn.save('lstm-cnn-model.h5')"
   ]
  },
  {
   "cell_type": "code",
   "execution_count": 81,
   "metadata": {},
   "outputs": [
    {
     "name": "stdout",
     "output_type": "stream",
     "text": [
      "25000/25000 [==============================] - 98s 4ms/step\n",
      "loss     =  0.5354914367771149\n",
      "accuracy =  0.85868\n"
     ]
    }
   ],
   "source": [
    "lstm_cnn_scores = lstm_cnn.evaluate(x_test_pad, y_test)\n",
    "print('loss     = ', lstm_cnn_scores[0])\n",
    "print('accuracy = ', lstm_cnn_scores[1])"
   ]
  },
  {
   "cell_type": "markdown",
   "metadata": {},
   "source": [
    "## 2.3 CNN"
   ]
  },
  {
   "cell_type": "code",
   "execution_count": 51,
   "metadata": {},
   "outputs": [
    {
     "name": "stdout",
     "output_type": "stream",
     "text": [
      "_________________________________________________________________\n",
      "Layer (type)                 Output Shape              Param #   \n",
      "=================================================================\n",
      "embedding_8 (Embedding)      (None, 500, 128)          2560000   \n",
      "_________________________________________________________________\n",
      "conv1d_4 (Conv1D)            (None, 500, 32)           12320     \n",
      "_________________________________________________________________\n",
      "max_pooling1d_4 (MaxPooling1 (None, 250, 32)           0         \n",
      "_________________________________________________________________\n",
      "flatten_2 (Flatten)          (None, 8000)              0         \n",
      "_________________________________________________________________\n",
      "dense_9 (Dense)              (None, 250)               2000250   \n",
      "_________________________________________________________________\n",
      "dense_10 (Dense)             (None, 1)                 251       \n",
      "=================================================================\n",
      "Total params: 4,572,821\n",
      "Trainable params: 4,572,821\n",
      "Non-trainable params: 0\n",
      "_________________________________________________________________\n",
      "None\n"
     ]
    }
   ],
   "source": [
    "from keras.layers import Flatten\n",
    "\n",
    "cnn = Sequential()\n",
    "cnn.add(Embedding(20000, 128, input_length=500))\n",
    "\n",
    "cnn.add(Conv1D(filters=32, kernel_size=3, padding='same', activation='relu'))\n",
    "cnn.add(MaxPooling1D(pool_size=2))\n",
    "\n",
    "cnn.add(Flatten())\n",
    "\n",
    "cnn.add(Dense(250, activation='relu'))\n",
    "\n",
    "cnn.add(Dense(1, activation='sigmoid'))\n",
    "cnn.compile(loss='binary_crossentropy', optimizer='adam', metrics=['accuracy'])\n",
    "\n",
    "print(cnn.summary())"
   ]
  },
  {
   "cell_type": "code",
   "execution_count": 52,
   "metadata": {
    "collapsed": true
   },
   "outputs": [],
   "source": [
    "callback=[\n",
    "    EarlyStopping(monitor='val_loss', patience=2),\n",
    "    ModelCheckpoint(filepath='weights.{epoch:02d}-{val_acc:.2f}.hdf5',save_best_only=True)\n",
    "]"
   ]
  },
  {
   "cell_type": "code",
   "execution_count": 53,
   "metadata": {},
   "outputs": [
    {
     "name": "stderr",
     "output_type": "stream",
     "text": [
      "/Users/lana/anaconda3/lib/python3.6/site-packages/keras/models.py:942: UserWarning: The `nb_epoch` argument in `fit` has been renamed `epochs`.\n",
      "  warnings.warn('The `nb_epoch` argument in `fit` '\n"
     ]
    },
    {
     "name": "stdout",
     "output_type": "stream",
     "text": [
      "Train on 18750 samples, validate on 6250 samples\n",
      "Epoch 1/10\n",
      "18750/18750 [==============================] - 70s 4ms/step - loss: 0.4473 - acc: 0.7569 - val_loss: 0.2479 - val_acc: 0.8995\n",
      "Epoch 2/10\n",
      "18750/18750 [==============================] - 69s 4ms/step - loss: 0.1532 - acc: 0.9458 - val_loss: 0.2491 - val_acc: 0.8978\n",
      "Epoch 3/10\n",
      "18750/18750 [==============================] - 68s 4ms/step - loss: 0.0432 - acc: 0.9887 - val_loss: 0.3393 - val_acc: 0.8907\n",
      "207.85776925086975\n"
     ]
    }
   ],
   "source": [
    "start_time_cnn=time.time()\n",
    "cnn_history = cnn.fit(Xtrain, ytrain, \n",
    "          nb_epoch=10, batch_size=64,\n",
    "          validation_data=(Xvalid, yvalid),\n",
    "       callbacks=callback)\n",
    "end_time_cnn=time.time()\n",
    "print(end_time_cnn-start_time_cnn)"
   ]
  },
  {
   "cell_type": "code",
   "execution_count": 54,
   "metadata": {
    "collapsed": true
   },
   "outputs": [],
   "source": [
    "pre_cnn_train=cnn.predict(x_train_pad)\n",
    "pre_cnn_test=cnn.predict(x_test_pad)\n",
    "cnn.save('cnn-model.h5')"
   ]
  },
  {
   "cell_type": "code",
   "execution_count": 82,
   "metadata": {},
   "outputs": [
    {
     "name": "stdout",
     "output_type": "stream",
     "text": [
      "25000/25000 [==============================] - 28s 1ms/step\n",
      "loss     =  0.40378161585569383\n",
      "accuracy =  0.87284\n"
     ]
    }
   ],
   "source": [
    "cnn_scores = cnn.evaluate(x_test_pad, y_test)\n",
    "print('loss     = ', cnn_scores[0])\n",
    "print('accuracy = ', cnn_scores[1])"
   ]
  },
  {
   "cell_type": "markdown",
   "metadata": {},
   "source": [
    "## 2.4 GRU"
   ]
  },
  {
   "cell_type": "code",
   "execution_count": 28,
   "metadata": {},
   "outputs": [
    {
     "name": "stdout",
     "output_type": "stream",
     "text": [
      "_________________________________________________________________\n",
      "Layer (type)                 Output Shape              Param #   \n",
      "=================================================================\n",
      "embedding_5 (Embedding)      (None, 500, 128)          2560000   \n",
      "_________________________________________________________________\n",
      "dropout_6 (Dropout)          (None, 500, 128)          0         \n",
      "_________________________________________________________________\n",
      "gru_1 (GRU)                  (None, 100)               68700     \n",
      "_________________________________________________________________\n",
      "dropout_7 (Dropout)          (None, 100)               0         \n",
      "_________________________________________________________________\n",
      "dense_6 (Dense)              (None, 1)                 101       \n",
      "=================================================================\n",
      "Total params: 2,628,801\n",
      "Trainable params: 2,628,801\n",
      "Non-trainable params: 0\n",
      "_________________________________________________________________\n",
      "None\n"
     ]
    }
   ],
   "source": [
    "from keras.layers import GRU\n",
    "\n",
    "gru = Sequential()\n",
    "gru.add(Embedding(20000, 128, input_length=500))\n",
    "\n",
    "gru.add(Dropout(0.2))\n",
    "gru.add(GRU(100))\n",
    "gru.add(Dropout(0.2))\n",
    "\n",
    "gru.add(Dense(1, activation='relu'))\n",
    "gru.compile(loss='binary_crossentropy', optimizer='adam', metrics=['accuracy'])\n",
    "\n",
    "print(gru.summary())"
   ]
  },
  {
   "cell_type": "code",
   "execution_count": 29,
   "metadata": {
    "collapsed": true
   },
   "outputs": [],
   "source": [
    "callback=[\n",
    "    EarlyStopping(monitor='val_loss', patience=2),\n",
    "    ModelCheckpoint(filepath='weights.{epoch:02d}-{val_acc:.2f}.hdf5',save_best_only=True)\n",
    "]"
   ]
  },
  {
   "cell_type": "code",
   "execution_count": 38,
   "metadata": {},
   "outputs": [
    {
     "name": "stdout",
     "output_type": "stream",
     "text": [
      "Train on 18750 samples, validate on 6250 samples\n",
      "Epoch 1/10\n",
      "18750/18750 [==============================] - 487s 26ms/step - loss: 0.4957 - acc: 0.7669 - val_loss: 0.4309 - val_acc: 0.8326\n",
      "Epoch 2/10\n",
      "18750/18750 [==============================] - 484s 26ms/step - loss: 0.4857 - acc: 0.7654 - val_loss: 0.6613 - val_acc: 0.6774\n",
      "Epoch 3/10\n",
      "18750/18750 [==============================] - 488s 26ms/step - loss: 0.4437 - acc: 0.8114 - val_loss: 0.5851 - val_acc: 0.7806\n",
      "1458.7877728939056\n"
     ]
    }
   ],
   "source": [
    "start_time_gru=time.time()\n",
    "gru_history = gru.fit(Xtrain, ytrain, \n",
    "          epochs=10, batch_size=64,\n",
    "          validation_data=(Xvalid, yvalid),\n",
    "       callbacks=callback)\n",
    "end_time_gru=time.time()\n",
    "print(end_time_gru-start_time_gru)"
   ]
  },
  {
   "cell_type": "code",
   "execution_count": 71,
   "metadata": {
    "collapsed": true
   },
   "outputs": [],
   "source": [
    "pre_gru_train=gru.predict(x_train_pad)\n",
    "pre_gru_test=gru.predict(x_test_pad)\n",
    "gru.save('gru-model.h5')"
   ]
  },
  {
   "cell_type": "code",
   "execution_count": 83,
   "metadata": {},
   "outputs": [
    {
     "name": "stdout",
     "output_type": "stream",
     "text": [
      "25000/25000 [==============================] - 142s 6ms/step\n",
      "loss     =  0.9326069539165497\n",
      "accuracy =  0.7162\n"
     ]
    }
   ],
   "source": [
    "gru_scores = gru.evaluate(x_test_pad, y_test)\n",
    "print('loss     = ', gru_scores[0])\n",
    "print('accuracy = ', gru_scores[1])"
   ]
  },
  {
   "cell_type": "markdown",
   "metadata": {},
   "source": [
    "## 3. Supervised Model"
   ]
  },
  {
   "cell_type": "code",
   "execution_count": 55,
   "metadata": {
    "collapsed": true
   },
   "outputs": [],
   "source": [
    "from sklearn.model_selection import GridSearchCV\n",
    "from sklearn.model_selection import KFold"
   ]
  },
  {
   "cell_type": "code",
   "execution_count": 56,
   "metadata": {
    "collapsed": true
   },
   "outputs": [],
   "source": [
    "import keras.datasets\n",
    "word_index=keras.datasets.imdb.get_word_index(path='imdb_word_index.json')\n",
    "index_word = {v:k for k,v in word_index.items()}"
   ]
  },
  {
   "cell_type": "code",
   "execution_count": 57,
   "metadata": {
    "collapsed": true
   },
   "outputs": [],
   "source": [
    "def get_word(df):\n",
    "    review = []\n",
    "    for i in range(len(df)):\n",
    "        text = []\n",
    "        for j in range(len(df[i])):\n",
    "            if df[i][j]<=len(index_word):\n",
    "                text.append(index_word[df[i][j]])\n",
    "        text = ' '.join(text)\n",
    "        review.append(text)\n",
    "    return review"
   ]
  },
  {
   "cell_type": "code",
   "execution_count": 58,
   "metadata": {
    "collapsed": true
   },
   "outputs": [],
   "source": [
    "x_train_review=get_word(x_train)\n",
    "x_test_review=get_word(x_test)"
   ]
  },
  {
   "cell_type": "code",
   "execution_count": 59,
   "metadata": {
    "collapsed": true
   },
   "outputs": [],
   "source": [
    "from sklearn.feature_extraction.text import TfidfVectorizer, CountVectorizer"
   ]
  },
  {
   "cell_type": "code",
   "execution_count": 60,
   "metadata": {
    "collapsed": true
   },
   "outputs": [],
   "source": [
    "tfidf_vectorizer = TfidfVectorizer(stop_words='english', ngram_range=(1,3)) \n",
    "tfidf_train = tfidf_vectorizer.fit_transform(x_train_review) \n",
    "tfidf_test = tfidf_vectorizer.transform(x_test_review)"
   ]
  },
  {
   "cell_type": "markdown",
   "metadata": {},
   "source": [
    "## 3.1 TF-IDF and Naive Bayes"
   ]
  },
  {
   "cell_type": "code",
   "execution_count": 61,
   "metadata": {
    "collapsed": true
   },
   "outputs": [],
   "source": [
    "from sklearn.naive_bayes import MultinomialNB\n",
    "from sklearn.metrics import accuracy_score, classification_report"
   ]
  },
  {
   "cell_type": "markdown",
   "metadata": {},
   "source": [
    "* Default parameter"
   ]
  },
  {
   "cell_type": "code",
   "execution_count": 62,
   "metadata": {},
   "outputs": [
    {
     "data": {
      "text/plain": [
       "MultinomialNB(alpha=1.0, class_prior=None, fit_prior=True)"
      ]
     },
     "execution_count": 62,
     "metadata": {},
     "output_type": "execute_result"
    }
   ],
   "source": [
    "nb = MultinomialNB() \n",
    "nb.fit(tfidf_train, y_train)"
   ]
  },
  {
   "cell_type": "code",
   "execution_count": 63,
   "metadata": {},
   "outputs": [
    {
     "name": "stdout",
     "output_type": "stream",
     "text": [
      "Validation:\n",
      "accuracy:   0.855\n",
      "             precision    recall  f1-score   support\n",
      "\n",
      "          0       0.85      0.86      0.86     12500\n",
      "          1       0.86      0.85      0.85     12500\n",
      "\n",
      "avg / total       0.86      0.86      0.86     25000\n",
      "\n"
     ]
    }
   ],
   "source": [
    "print('Validation:')\n",
    "pred = nb.predict(tfidf_test)\n",
    "score = accuracy_score(y_test, pred)\n",
    "print (\"accuracy:   %0.3f\" % score)\n",
    "print(classification_report(y_test, pred))"
   ]
  },
  {
   "cell_type": "markdown",
   "metadata": {},
   "source": [
    "* Grid Search"
   ]
  },
  {
   "cell_type": "code",
   "execution_count": 64,
   "metadata": {},
   "outputs": [
    {
     "name": "stdout",
     "output_type": "stream",
     "text": [
      "Best Parameters: {'alpha': 0.3}\n",
      "Best cross-validation Accuracy: 0.8772\n",
      "Best estimator:\n",
      "MultinomialNB(alpha=0.3, class_prior=None, fit_prior=True)\n"
     ]
    }
   ],
   "source": [
    "nb_tune = MultinomialNB() \n",
    "\n",
    "para = {'alpha': [0.1, 0.2, 0.3, 0.4, 0.5, 0.6, 0.7, 0.8, 0.9, 1.0]}\n",
    "\n",
    "kfold=KFold(n_splits=5, random_state=10)\n",
    "\n",
    "nb_grid = GridSearchCV(nb_tune, para, cv=kfold, scoring= 'accuracy')\n",
    "\n",
    "#Fitting\n",
    "nb_grid.fit(tfidf_train, y_train)\n",
    "\n",
    "#Printing reports\n",
    "print(\"Best Parameters: {}\".format(nb_grid.best_params_))\n",
    "print(\"Best cross-validation Accuracy: {:.4f}\".format(nb_grid.best_score_))\n",
    "print(\"Best estimator:\\n{}\".format(nb_grid.best_estimator_))"
   ]
  },
  {
   "cell_type": "markdown",
   "metadata": {},
   "source": [
    "* Build model with best parameter"
   ]
  },
  {
   "cell_type": "code",
   "execution_count": 77,
   "metadata": {},
   "outputs": [
    {
     "name": "stdout",
     "output_type": "stream",
     "text": [
      "Validation:\n",
      "accuracy:   0.854\n",
      "             precision    recall  f1-score   support\n",
      "\n",
      "          0       0.85      0.86      0.85     12500\n",
      "          1       0.86      0.84      0.85     12500\n",
      "\n",
      "avg / total       0.85      0.85      0.85     25000\n",
      "\n",
      "0.7060549259185791\n"
     ]
    }
   ],
   "source": [
    "start_time_nb=time.time()\n",
    "nb = MultinomialNB(alpha=0.3) \n",
    "nb.fit(tfidf_train, y_train)\n",
    "\n",
    "print('Validation:')\n",
    "pred_clf_test = nb.predict(tfidf_test)\n",
    "pred_clf_train = nb.predict(tfidf_train)\n",
    "\n",
    "clf_score = accuracy_score(y_test, pred_clf_test)\n",
    "print (\"accuracy:   %0.3f\" % clf_score)\n",
    "print(classification_report(y_test, pred_clf_test))\n",
    "end_time_nb=time.time()\n",
    "print(end_time_nb-start_time_nb)"
   ]
  },
  {
   "cell_type": "markdown",
   "metadata": {},
   "source": [
    "## 3.2. TF-IDF and Logistic Regression"
   ]
  },
  {
   "cell_type": "code",
   "execution_count": 66,
   "metadata": {
    "collapsed": true
   },
   "outputs": [],
   "source": [
    "from sklearn.linear_model import LogisticRegression"
   ]
  },
  {
   "cell_type": "markdown",
   "metadata": {},
   "source": [
    "* Default parameter"
   ]
  },
  {
   "cell_type": "code",
   "execution_count": 67,
   "metadata": {},
   "outputs": [
    {
     "data": {
      "text/plain": [
       "LogisticRegression(C=1.0, class_weight=None, dual=False, fit_intercept=True,\n",
       "          intercept_scaling=1, max_iter=100, multi_class='ovr', n_jobs=1,\n",
       "          penalty='l2', random_state=None, solver='liblinear', tol=0.0001,\n",
       "          verbose=0, warm_start=False)"
      ]
     },
     "execution_count": 67,
     "metadata": {},
     "output_type": "execute_result"
    }
   ],
   "source": [
    "logistic = LogisticRegression() \n",
    "logistic.fit(tfidf_train, y_train)"
   ]
  },
  {
   "cell_type": "code",
   "execution_count": 68,
   "metadata": {},
   "outputs": [
    {
     "name": "stdout",
     "output_type": "stream",
     "text": [
      "Validation:\n",
      "accuracy:   0.862\n",
      "             precision    recall  f1-score   support\n",
      "\n",
      "          0       0.86      0.86      0.86     12500\n",
      "          1       0.86      0.86      0.86     12500\n",
      "\n",
      "avg / total       0.86      0.86      0.86     25000\n",
      "\n"
     ]
    }
   ],
   "source": [
    "print('Validation:')\n",
    "pred = logistic.predict(tfidf_test)\n",
    "score = accuracy_score(y_test, pred)\n",
    "print (\"accuracy:   %0.3f\" % score)\n",
    "print(classification_report(y_test, pred))"
   ]
  },
  {
   "cell_type": "markdown",
   "metadata": {},
   "source": [
    "* Grid Search"
   ]
  },
  {
   "cell_type": "code",
   "execution_count": 69,
   "metadata": {},
   "outputs": [
    {
     "name": "stdout",
     "output_type": "stream",
     "text": [
      "Best Parameters: {'C': 1000}\n",
      "Best cross-validation Accuracy: 0.8896\n",
      "Best estimator:\n",
      "LogisticRegression(C=1000, class_weight=None, dual=False, fit_intercept=True,\n",
      "          intercept_scaling=1, max_iter=100, multi_class='ovr', n_jobs=1,\n",
      "          penalty='l2', random_state=None, solver='liblinear', tol=0.0001,\n",
      "          verbose=0, warm_start=False)\n"
     ]
    }
   ],
   "source": [
    "logistic_tune = LogisticRegression() \n",
    "\n",
    "para = {'C': [0.001, 0.01, 0.1, 1, 10, 100, 1000]}\n",
    "\n",
    "kfold=KFold(n_splits=5, random_state=10)\n",
    "\n",
    "logistic_grid = GridSearchCV(logistic_tune, para, cv=kfold, scoring= 'accuracy')\n",
    "\n",
    "#Fitting\n",
    "logistic_grid.fit(tfidf_train, y_train)\n",
    "\n",
    "#Printing reports\n",
    "print(\"Best Parameters: {}\".format(logistic_grid.best_params_))\n",
    "print(\"Best cross-validation Accuracy: {:.4f}\".format(logistic_grid.best_score_))\n",
    "print(\"Best estimator:\\n{}\".format(logistic_grid.best_estimator_))"
   ]
  },
  {
   "cell_type": "markdown",
   "metadata": {},
   "source": [
    "* Build model with best parameter"
   ]
  },
  {
   "cell_type": "code",
   "execution_count": 84,
   "metadata": {},
   "outputs": [
    {
     "name": "stdout",
     "output_type": "stream",
     "text": [
      "Validation:\n",
      "accuracy:   0.854\n",
      "             precision    recall  f1-score   support\n",
      "\n",
      "          0       0.88      0.88      0.88     12500\n",
      "          1       0.88      0.88      0.88     12500\n",
      "\n",
      "avg / total       0.88      0.88      0.88     25000\n",
      "\n",
      "15.920284032821655\n"
     ]
    }
   ],
   "source": [
    "start_time_logistic=time.time()\n",
    "logistic = LogisticRegression(C=1000) \n",
    "logistic.fit(tfidf_train, y_train)\n",
    "\n",
    "print('Validation:')\n",
    "pred_logistic_test = logistic.predict(tfidf_test)\n",
    "pred_logistic_train = logistic.predict(tfidf_train)\n",
    "\n",
    "\n",
    "logistic_score = accuracy_score(y_test, pred_logistic_test)\n",
    "print (\"accuracy:   %0.3f\" % logistic_score)\n",
    "print(classification_report(y_test, pred_logistic_test))\n",
    "end_time_logistic=time.time()\n",
    "print(end_time_logistic-start_time_logistic)"
   ]
  },
  {
   "cell_type": "markdown",
   "metadata": {
    "collapsed": true
   },
   "source": [
    "## 4. Summary"
   ]
  },
  {
   "cell_type": "code",
   "execution_count": 97,
   "metadata": {
    "collapsed": true
   },
   "outputs": [],
   "source": [
    "validation = pd.DataFrame(columns=['model','lost','validation','time'])\n",
    "\n",
    "validation.loc[0]=['LSTM', lstm_scores[0], lstm_scores[1], end_time_lstm-start_time_lstm]\n",
    "validation.loc[1]=['LSTM_CNN', lstm_cnn_scores[0], lstm_cnn_scores[1], end_time_lstm_cnn-start_time_lstm_cnn]\n",
    "validation.loc[2]=['CNN', cnn_scores[0], cnn_scores[1], end_time_cnn-start_time_cnn]\n",
    "validation.loc[3]=['GRU', gru_scores[0], gru_scores[1], end_time_gru-start_time_gru]\n",
    "validation.loc[4]=['Naive Bayes', '--', clf_score, end_time_nb-start_time_nb]\n",
    "validation.loc[5]=['Logistic Regression', '--', logistic_score, end_time_logistic-start_time_logistic]"
   ]
  },
  {
   "cell_type": "code",
   "execution_count": 98,
   "metadata": {},
   "outputs": [
    {
     "data": {
      "text/html": [
       "<div>\n",
       "<style>\n",
       "    .dataframe thead tr:only-child th {\n",
       "        text-align: right;\n",
       "    }\n",
       "\n",
       "    .dataframe thead th {\n",
       "        text-align: left;\n",
       "    }\n",
       "\n",
       "    .dataframe tbody tr th {\n",
       "        vertical-align: top;\n",
       "    }\n",
       "</style>\n",
       "<table border=\"1\" class=\"dataframe\">\n",
       "  <thead>\n",
       "    <tr style=\"text-align: right;\">\n",
       "      <th></th>\n",
       "      <th>lost</th>\n",
       "      <th>validation</th>\n",
       "      <th>time</th>\n",
       "    </tr>\n",
       "    <tr>\n",
       "      <th>model</th>\n",
       "      <th></th>\n",
       "      <th></th>\n",
       "      <th></th>\n",
       "    </tr>\n",
       "  </thead>\n",
       "  <tbody>\n",
       "    <tr>\n",
       "      <th>LSTM</th>\n",
       "      <td>0.397868</td>\n",
       "      <td>0.84932</td>\n",
       "      <td>2330.617290</td>\n",
       "    </tr>\n",
       "    <tr>\n",
       "      <th>LSTM_CNN</th>\n",
       "      <td>0.535491</td>\n",
       "      <td>0.85868</td>\n",
       "      <td>1166.887663</td>\n",
       "    </tr>\n",
       "    <tr>\n",
       "      <th>CNN</th>\n",
       "      <td>0.403782</td>\n",
       "      <td>0.87284</td>\n",
       "      <td>207.857769</td>\n",
       "    </tr>\n",
       "    <tr>\n",
       "      <th>GRU</th>\n",
       "      <td>0.932607</td>\n",
       "      <td>0.71620</td>\n",
       "      <td>1458.787773</td>\n",
       "    </tr>\n",
       "    <tr>\n",
       "      <th>Naive Bayes</th>\n",
       "      <td>--</td>\n",
       "      <td>0.85356</td>\n",
       "      <td>0.706055</td>\n",
       "    </tr>\n",
       "    <tr>\n",
       "      <th>Logistic Regression</th>\n",
       "      <td>--</td>\n",
       "      <td>0.88052</td>\n",
       "      <td>15.920284</td>\n",
       "    </tr>\n",
       "  </tbody>\n",
       "</table>\n",
       "</div>"
      ],
      "text/plain": [
       "                         lost  validation         time\n",
       "model                                                 \n",
       "LSTM                 0.397868     0.84932  2330.617290\n",
       "LSTM_CNN             0.535491     0.85868  1166.887663\n",
       "CNN                  0.403782     0.87284   207.857769\n",
       "GRU                  0.932607     0.71620  1458.787773\n",
       "Naive Bayes                --     0.85356     0.706055\n",
       "Logistic Regression        --     0.88052    15.920284"
      ]
     },
     "execution_count": 98,
     "metadata": {},
     "output_type": "execute_result"
    }
   ],
   "source": [
    "validation.set_index('model')"
   ]
  },
  {
   "cell_type": "markdown",
   "metadata": {},
   "source": [
    "* Visualization"
   ]
  },
  {
   "cell_type": "code",
   "execution_count": 117,
   "metadata": {},
   "outputs": [
    {
     "data": {
      "image/png": "[encoded data removed]",
      "text/plain": [
       "<matplotlib.figure.Figure at 0x26ea8ba90>"
      ]
     },
     "metadata": {},
     "output_type": "display_data"
    }
   ],
   "source": [
    "plt.figure(figsize=(15,8))\n",
    "plt.scatter(validation.time, validation.validation)\n",
    "\n",
    "for i, txt in enumerate(list(validation.model)):\n",
    "    plt.annotate(txt, (list(validation.time)[i],validation.validation[i]))\n",
    "    \n",
    "plt.xlabel(\"Validation Accuracy\")\n",
    "plt.ylabel(\"Time\")\n",
    "plt.grid()\n",
    "plt.show()"
   ]
  },
  {
   "cell_type": "markdown",
   "metadata": {},
   "source": [
    "* Logistic regression has the highest accuracy, but naive bayes is more quicker than logistic regression.\n",
    "* CNN performances better than other neural network models and it's observably quicker than other neural network models.\n",
    "* Neural network models' performance could be improved by adjusting their parameters and sturcture of hidden layers\n",
    "* Also, the size of train data is relatively small for neural network and this may be the reason why neural network performance worse here than simple supervised models like logistic regression and naive bayes."
   ]
  },
  {
   "cell_type": "code",
   "execution_count": null,
   "metadata": {
    "collapsed": true
   },
   "outputs": [],
   "source": []
  }
 ],
 "metadata": {
  "kernelspec": {
   "display_name": "Python 3",
   "language": "python",
   "name": "python3"
  },
  "language_info": {
   "codemirror_mode": {
    "name": "ipython",
    "version": 3
   },
   "file_extension": ".py",
   "mimetype": "text/x-python",
   "name": "python",
   "nbconvert_exporter": "python",
   "pygments_lexer": "ipython3",
   "version": "3.6.3"
  }
 },
 "nbformat": 4,
 "nbformat_minor": 2
}
